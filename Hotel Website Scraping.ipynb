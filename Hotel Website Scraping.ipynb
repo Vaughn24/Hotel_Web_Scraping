{
 "cells": [
  {
   "cell_type": "code",
   "execution_count": 1,
   "id": "2e0512b2",
   "metadata": {},
   "outputs": [],
   "source": [
    "import requests\n",
    "from bs4 import BeautifulSoup\n",
    "import lxml"
   ]
  },
  {
   "cell_type": "code",
   "execution_count": 2,
   "id": "8a7149a6",
   "metadata": {},
   "outputs": [],
   "source": [
    "req01 = requests.get('https://ph.hotels.com/search.do?destination-id=10233139&q-check-in=2022-04-28&q-check-out=2022-04-29&q-rooms=1&q-room-0-adults=2&q-room-0-children=0&sort-order=STAR_RATING_HIGHEST_FIRST').text"
   ]
  },
  {
   "cell_type": "code",
   "execution_count": 3,
   "id": "004c1912",
   "metadata": {},
   "outputs": [],
   "source": [
    "soup01 = BeautifulSoup(req01,'lxml')"
   ]
  },
  {
   "cell_type": "code",
   "execution_count": 4,
   "id": "711fd2ba",
   "metadata": {},
   "outputs": [],
   "source": [
    "hotels = soup01.find('ul',class_='_3f26d2')"
   ]
  },
  {
   "cell_type": "code",
   "execution_count": 5,
   "id": "40ed597d",
   "metadata": {},
   "outputs": [],
   "source": [
    "hotels = soup01.find_all('div',class_='-RcIiD')\n",
    "hotel = soup01.find('div',class_='-RcIiD')"
   ]
  },
  {
   "cell_type": "code",
   "execution_count": 6,
   "id": "bb6d1a96",
   "metadata": {},
   "outputs": [
    {
     "data": {
      "text/plain": [
       "'Shangri-La Mactan, Cebu'"
      ]
     },
     "execution_count": 6,
     "metadata": {},
     "output_type": "execute_result"
    }
   ],
   "source": [
    "hotel_name = hotel.find('h2',class_='_3zH0kn')\n",
    "hotel_name.text"
   ]
  },
  {
   "cell_type": "code",
   "execution_count": 7,
   "id": "93a8313d",
   "metadata": {
    "scrolled": true
   },
   "outputs": [
    {
     "name": "stdout",
     "output_type": "stream",
     "text": [
      "\n",
      "    Link: https://ph.hotels.com//ho245837/?q-check-in=2022-04-28&q-check-out=2022-04-29&q-rooms=1&q-room-0-adults=2&q-room-0-children=0&sort-order=STAR_RATING_HIGHEST_FIRST&WOD=4&WOE=5&MGT=1&ZSX=0&SYE=3&YGF=14\n",
      "    Name: Shangri-La Mactan, Cebu\n",
      "    Location of hotel: Punta Engano Road, Lapu-Lapu, 6015, Cebu, Philippines\n",
      "    Amenities: 530 smoke-free guestrooms, Daily housekeeping, On a private beach, 5 restaurants and 3 bars/lounges, Full-service spa, 2 outdoor pools, Children's pool, Playground on site, In-room childcare (surcharge), Babysitting or childcare (surcharge), Children's club (surcharge), Supervised childcare/activities (surcharge), \n",
      "    Price range: P6400.0 - P12073.0 per room & per day (with 2 bed)\n",
      "    No. of available rooms: 530 rooms\n",
      "    Other data: Pets not allowed, Free WiFi and wired Internet access in public areas, Free WiFi and wired Internet access in rooms, Airport shuttle (available 24 hours)*, Free onsite self parking, Wheelchair-accessible parking on site, Smoke-free property, Children's club (surcharge), In-room childcare (surcharge), Supervised childcare/activities (surcharge), Full breakfast daily (surcharge), 5 restaurants , 3 bars/lounges , 2 coffee shops/cafés , Snack bar/deli , Poolside bar , 24-hour room service , Coffee/tea in a common area , Fitness classes on site, Miniature golf on site, Kayaking on site, Motor boating on site, Playground on site, Rowing or canoeing on site, Sailing on site, Scuba diving on site, Snorkeling on site, Tennis lessons on site, Volleyball on site, Yoga classes/instruction on site, Golfing nearby, Parasailing nearby, Business center, Conference space, Meeting rooms, 24-hour front desk, Concierge services, Tours/ticket assistance, Limo or town car service available, Dry cleaning/laundry service, Laundry facilities, Hair salon, Free newspapers in lobby, Luggage storage, Wedding services, Multilingual staff, Porter/bellhop, Elevator, ATM/banking, Safe-deposit box at front desk, Garden, Terrace, Accessible bathroom, In-room accessibility, Wheelchair-accessible path of travel, Wheelchair-accessible parking, Wheelchair-accessible path to lift, English, Filipino, Japanese, Korean, Russian, Air conditioning, Minibar, Coffee/tea maker, Bathrobes, Slippers, Iron/ironing board, Blackout drapes/curtains, Turndown service, Balcony, Private bathroom, Shower/tub combination, Free toiletries, Hair dryer, 42-inch LED TV , Digital TV channels , Desk, Free newspaper, Free WiFi, Phone, Free bottled water, Daily housekeeping, In-room safe, \n",
      "    Customer reviews:\n",
      "10.0 - It was amazing as usual! World class amenities and service! \n",
      "8.0 - Nice workers and nice facility.. beach area had plenty of chairs/umbrellas so as the pool area\n",
      "10.0 - Excelent hotel, we will return to Shangri-La next year.\n",
      "8.0 - The hotel is still in good shape. Rooms are well maintained. 5 restaurants to choose from although prices are high. Even with my gold status they don't allow us to have early check in after arriving from our flight unlike other hotels. Although they have airport shuttle, they still charge additional for that service. What I do like is swimming with the fishes in the beach! The lifeguard even offered feeds to make it more fun. \n",
      "10.0 - Nothing in particular. But I’ll highly recommend this place to everyone who’s going to Cebu. It’s pricey, but really worth it.\n",
      "\n",
      "    \n",
      "\n",
      "    Link: https://ph.hotels.com//ho508104/?q-check-in=2022-04-28&q-check-out=2022-04-29&q-rooms=1&q-room-0-adults=2&q-room-0-children=0&sort-order=STAR_RATING_HIGHEST_FIRST&WOD=4&WOE=5&MGT=1&ZSX=0&SYE=3&YGF=14\n",
      "    Name: The Lind Boracay\n",
      "    Location of hotel: Station 1, Barangay Balabag, Malay, Boracay Island, 5608, Aklan, Philippines\n",
      "    Amenities: 119 smoke-free guestrooms, Daily housekeeping, On the beach, Restaurant and bar/lounge, Full-service spa, 3 outdoor pools, Free cribs/infant beds, Children's pool, Children's club (free), Rollaway/extra beds (free), Refrigerator, Private bathroom, \n",
      "    Price range: P19400.0 - P21500.0 per room & per day (with 2 bed)\n",
      "    No. of available rooms: 119 rooms\n",
      "    Other data: Free WiFi in rooms, Free airport shuttle from 7:00 AM to 4:00 PM*, No onsite parking, Free offsite parking nearby, Smoke-free property, Children's club (free), Full breakfast daily (surcharge), Restaurant , Bar/lounge , Coffee shop/café , Snack bar/deli , Poolside bar , 24-hour room service , Beach towels, Number of outdoor pools -  3, Children's pool, Fitness facilities, Full-service spa, Parasailing nearby, Scuba diving nearby, Snorkeling nearby, Pool sun loungers, Pool umbrellas, Number of meeting rooms -  1, Conference space, 24-hour front desk, Concierge services, Laundry facilities, Luggage storage, Wedding services, Number of buildings/towers -  4, Year Built -  2015, Elevator, Safe-deposit box at front desk, Garden, Terrace, English, Filipino, Air conditioning, Coffee/tea maker, Bathrobes, Slippers, Blackout drapes/curtains, Turndown service, Separate sitting area, Balcony, Private bathroom, Bidet, Free toiletries, Hair dryer, Flat-screen TV , Premium TV channels , Desk, Free WiFi, Phone, Refrigerator, Free bottled water, Daily housekeeping, In-room safe, \n",
      "    Customer reviews:\n",
      "10.0 - It was an excellent trip. The Lind as always exceeded my expectation. Transfer was smooth and safe, checked in was smooth. All facilities are working fine. Location is the best and multiple beach beds. \n",
      "8.0 - Very nice place\n",
      "8.0 - I love the location of the property and the massage they offer in the spa is so relaxing:)\n",
      "8.0 - We had a pleasant stay at Lind Boracay. Great staff service always willing to accommodate our requests and the facility  is very clean and comfortable. Location was great.\n",
      "10.0 - This was our 2nd time and as expected, it did not let us down. Comfortable stay it was \n",
      "\n",
      "    \n",
      "\n",
      "    Link: https://ph.hotels.com//ho443145/?q-check-in=2022-04-28&q-check-out=2022-04-29&q-rooms=1&q-room-0-adults=2&q-room-0-children=0&sort-order=STAR_RATING_HIGHEST_FIRST&WOD=4&WOE=5&MGT=1&ZSX=0&SYE=3&YGF=14\n",
      "    Name: Marco Polo Ortigas Manila\n",
      "    Location of hotel: Meralco Avenue and Sapphire Street, Pasig, 1600, Manila, Philippines\n",
      "    Amenities: 316 smoke-free guestrooms, Daily housekeeping, 5 restaurants and bar/lounge, Full-service spa, Indoor pool, Breakfast available, Rollaway/extra beds (surcharge), Connecting/adjoining rooms available, Private bathroom, Separate bathtub and shower, Premium TV channels, Television, \n",
      "    Price range: P5160.0 - P11950.0 per room & per day (with 2 bed)\n",
      "    No. of available rooms: 316 rooms\n",
      "    Other data: Free WiFi in public areas, Free WiFi in rooms, Airport shuttle (available 24 hours)*, Free onsite self parking, Wheelchair-accessible parking on site, Smoke-free property, Cooked-to-order breakfast daily (surcharge), 5 restaurants , Bar/lounge , Coffee shop/café , Snack bar/deli , 24-hour room service , Number of indoor pools -  1, Fitness facilities, Full-service spa, Spa treatment room(s), Health club, Steam room, Sauna, Business center, Meeting rooms, Conference center, 24-hour front desk, Concierge services, Tours/ticket assistance, Dry cleaning/laundry service, Laundry facilities, Free newspapers in lobby, Luggage storage, Wedding services, Number of buildings/towers -  1, Year Built -  2014, Elevator, ATM/banking, Safe-deposit box at front desk, Accessible bathroom, In-room accessibility, Wheelchair-accessible path of travel, Wheelchair-accessible parking, English, Filipino, In-room climate control (air conditioning), Slippers, Iron/ironing board, Blackout drapes/curtains, Turndown service, In-room massage available, Individually decorated, Individually furnished, Private bathroom, Separate bathtub and shower, Rainfall showerhead, Free toiletries, Hair dryer, 42-inch flat-screen TV , First-run movies , Premium TV channels , IPod docking station , Desk, Free newspaper, Free WiFi, Free bottled water, Daily housekeeping, In-room safe, Connecting/adjoining rooms available, \n",
      "    Customer reviews:\n",
      "8.0 - \n",
      "10.0 - the ambience\n",
      "10.0 - It was great, a small issue, but the Duty Manager Janzy was great and took care of it immediately, just like Toni last time, also the housekeeping team is awesome. Another wonderful stay at Marco Polo, still my go-to hotel for my trips.\n",
      "10.0 - Good service as usual, attentive, quick and helpful staff. One glitch during the stay, but the duty manager Toni, was on top of the issue and resolved the issue quickly. It was inconvenient at the time, but I was very happy with the quick action to make my stay better. Service is really top-notch compared to other 5 star hotels. Always great to stay here, I already booked my next night :)\n",
      "10.0 - Service and place was great! Room sevice food was good too.\n",
      "\n",
      "    \n"
     ]
    },
    {
     "name": "stdout",
     "output_type": "stream",
     "text": [
      "\n",
      "    Link: https://ph.hotels.com//ho558130/?q-check-in=2022-04-28&q-check-out=2022-04-29&q-rooms=1&q-room-0-adults=2&q-room-0-children=0&sort-order=STAR_RATING_HIGHEST_FIRST&WOD=4&WOE=5&MGT=1&ZSX=0&SYE=3&YGF=14\n",
      "    Name: Midori Clark Hotel and Casino\n",
      "    Location of hotel: Kalayaan St., C.M. Recto Avenue, Mabalacat City, 2009, Pampanga, Philippines\n",
      "    Amenities: 111 guestrooms, Daily housekeeping, Casino, Restaurant and 2 bars/lounges, Outdoor pool, Breakfast available, Free cribs/infant beds, Children's pool, Rollaway/extra beds (surcharge), Private bathroom, Television, Garden, \n",
      "    Price range: P8073.0 - P27273.0 per room & per day (with 2 bed)\n",
      "    No. of available rooms: 111 rooms\n",
      "    Other data: Airport shuttle (available 24 hours)*, Free secured onsite self parking, Onsite parking limited, Cooked-to-order breakfast daily (surcharge), 2 bars/lounges , Restaurant , Coffee shop/café , Poolside bar , Room service (during limited hours) , Barbecue grills , Number of outdoor pools -  1, Children's pool, Fitness facilities, Spa services on site, Spa treatment room(s), Fitness classes on site, Casino, Pool sun loungers, Computer station, 24-hour front desk, Concierge services, Tours/ticket assistance, Dry cleaning/laundry service, Laundry facilities, Free newspapers in lobby, Luggage storage, Wedding services, Porter/bellhop, Year Built -  2015, Elevator, ATM/banking, Safe-deposit box at front desk, Designated smoking areas, Garden, Accessible bathroom, In-room accessibility, Wheelchair-accessible concierge desk, Wheelchair-accessible registration desk, Wheelchair-accessible pool, Wheelchair-accessible on-site restaurant, English, Filipino, Air conditioning, Coffee/tea maker, Bathrobes, Slippers, Iron/ironing board, Soundproofed rooms, Private bathroom, Shower only, Designer toiletries, Hair dryer, LCD TV , Satellite TV channels , Desk, Free WiFi, Phone, Free bottled water, Daily housekeeping, In-room safe, \n",
      "    Customer reviews:\n",
      "10.0 - Nice hotel. We got the deluxe room but the beds are too small (expected double size bed). \n",
      "8.0 - Pro’s:\n",
      "Rooms are big enough to accommodate 2 persons.\n",
      "The separate bath tub and shower in the balcony is unique!\n",
      "The cleanliness around the area is commendable.\n",
      "\n",
      "Con’s:\n",
      "Rooms with single beds are literally for single person only. \n",
      "It took an hour for them to deliver an ice bucket in our hotel room. \n",
      "Our hotel comfort room has no bidet.\n",
      "\n",
      "Over-all, it was a pleasant stay! \n",
      "Will definitely book it again!\n",
      "10.0 - The hotel was amazing, although the parking was a bit difficult. Our room was upgraded (thank you hotels.com!), and it was sublime! There was a well-maintained playground for my toddler, and the swimming pool was equally impressive. Truly a world class hotel, and my family and I greatly enjoyed our stay there. We will surely book again, no doubt about it. 😊\n",
      "10.0 - Very good service. I was very happy with my stay in this Hotel. \n",
      "8.0 - I like style and design of the whole hotel especially our room. I did not like the accommodation. Some staff are not accommodating. \n",
      "\n",
      "    \n",
      "\n",
      "    Link: https://ph.hotels.com//ho607866/?q-check-in=2022-04-28&q-check-out=2022-04-29&q-rooms=1&q-room-0-adults=2&q-room-0-children=0&sort-order=STAR_RATING_HIGHEST_FIRST&WOD=4&WOE=5&MGT=1&ZSX=0&SYE=3&YGF=14\n",
      "    Name: I’M Hotel\n",
      "    Location of hotel: Makati Avenue, Makati, 1210, Manila, Philippines\n",
      "    Amenities: 434 smoke-free guestrooms, Daily housekeeping, 4 restaurants and bar/lounge, Full-service spa, Outdoor pool, Breakfast available, Private bathroom, Television, Daily housekeeping, Laundry facilities, Iron/ironing board, Hair dryer, \n",
      "    Price range: P5355.0 - P15187.0 per room & per day (with 2 bed)\n",
      "    No. of available rooms: 434 rooms\n",
      "    Other data: No cribs (infant beds), Pets not allowed, Free WiFi in public areas, Free WiFi in rooms, Airport shuttle (available 24 hours)*, Free onsite self parking, Smoke-free property, Buffet breakfast daily (surcharge), 4 restaurants , Bar/lounge , Poolside bar , Room service (during limited hours) , Number of outdoor pools -  1, Pool sun loungers, Fitness facilities, Full-service spa, Spa treatment room(s), Steam room, Sauna, Business center, Conference space, Meeting rooms, Conference space size (feet) -  1830, Conference space size (meters) -  170, 24-hour front desk, Concierge services, Tours/ticket assistance, Dry cleaning/laundry service, Laundry facilities, Free newspapers in lobby, Luggage storage, Number of buildings/towers -  1, Year Built -  2016, Elevator, Safe-deposit box at front desk, Accessible bathroom, In-room accessibility, Grab bar - near toilet, English, Air conditioning, Minibar, Coffee/tea maker, Bathrobes, Slippers, Iron/ironing board, Blackout drapes/curtains, Private bathroom, Shower only, Designer toiletries, Hair dryer, 49-inch LED TV , Cable TV channels , Desk, Free WiFi, Phone, Free bottled water, Daily housekeeping, In-room safe, \n",
      "    Customer reviews:\n",
      "10.0 - Me and my husband had a lovely time!\n",
      "\n",
      "\n",
      "10.0 - Nice room but impossible to regulate temperature.  Even after call for service to adjust it, the room was freezing cold all the time.  On the 21st floor there was so little water pressure and hot water that showers were not pleasant at all.  In restaurant, selections were same every day & food was cold.\n",
      "10.0 - \n",
      "10.0 - I love the crew except the crew in their bar area. They are not that friendly. \n",
      "\n",
      "    \n",
      "\n",
      "    Link: https://ph.hotels.com//ho428858880/?q-check-in=2022-04-28&q-check-out=2022-04-29&q-rooms=1&q-room-0-adults=2&q-room-0-children=0&sort-order=STAR_RATING_HIGHEST_FIRST&WOD=4&WOE=5&MGT=1&ZSX=0&SYE=3&YGF=14\n",
      "    Name: Shangri-La The Fort, Manila\n",
      "    Location of hotel: 30th Street corner 5th Avenue, Taguig, 1634, Philippines\n",
      "    Amenities: 576 smoke-free guestrooms, Daily housekeeping, 15 restaurants and 2 poolside bars, Full-service spa, 3 outdoor pools, Breakfast available, Children's pool, Playground on site, Babysitting or childcare (surcharge), Children's club (surcharge), Supervised childcare/activities (surcharge), Private bathroom, \n",
      "    Price range: P10500.0 - P20500.0 per room & per day (with 2 bed)\n",
      "    No. of available rooms: 576 rooms\n",
      "    Other data: No cribs (infant beds), Babysitting/childcare*, Children's club*, Pets not allowed, Free WiFi in public areas, Free WiFi in rooms, Airport shuttle (available 24 hours)*, Onsite self parking (PHP 50 per day), Onsite valet parking (PHP 50 per day), Wheelchair-accessible parking on site, Onsite parking limited, Smoke-free property, Children's club (surcharge), Supervised childcare/activities (surcharge), Continental breakfast daily (surcharge), 15 restaurants , 2 bars/lounges , 2 poolside bars , Coffee shop/café , Snack bar/deli , 24-hour room service , Number of outdoor pools -  3, Children's pool, 24-hour fitness facilities, Outdoor tennis courts -  2, Full-service spa, Spa treatment room(s), Free bicycles on site, Playground on site, Racquetball/squash on site, Pool cabanas (surcharge), Fitness facilities, Number of spa tubs -  1, Pool sun loungers, Steam room, Pool umbrellas, Sauna, Access to nearby outdoor pool, Conference space, 24-hour front desk, Concierge services, Tours/ticket assistance, Limo or town car service available, Dry cleaning/laundry service, Laundry facilities, Hair salon, Free newspapers in lobby, Luggage storage, Wedding services, Porter/bellhop, Number of buildings/towers -  2, Year Built -  2016, Elevator, ATM/banking, Safe-deposit box at front desk, Garden, Terrace, Braille or raised signage, Accessible bathroom, In-room accessibility, Wheelchair accessible, Wheelchair-accessible parking, Assistive listening devices available, Low-height counters/sink, Grab bar - near toilet, Bathroom emergency pull cord, English, Filipino, Air conditioning, Minibar, Slippers, Iron/ironing board, Blackout drapes/curtains, Soundproofed rooms, Turndown service, Private bathroom, Separate bathtub and shower, Free toiletries, Hair dryer, TV , Cable TV channels , Desk, Free WiFi, Free local calls, Free bottled water, Daily housekeeping, In-room safe, \n",
      "    Customer reviews:\n",
      "10.0 - The friendly staffs\n",
      "10.0 - It was awesome we cant compare to other hotels what we experience everything is perfect from the service, the crew and all.. we definitely going back. ☺️😍\n",
      "10.0 - As always Shang rila is always a good place to staycation. All friendly and accommodating staff. Thank you!\n",
      "10.0 - Make sure to have a dinner at Raging Bull Chophouse :) highly recommended!\n",
      "\n",
      "    \n"
     ]
    },
    {
     "name": "stdout",
     "output_type": "stream",
     "text": [
      "\n",
      "    Link: https://ph.hotels.com//ho362385/?q-check-in=2022-04-28&q-check-out=2022-04-29&q-rooms=1&q-room-0-adults=2&q-room-0-children=0&sort-order=STAR_RATING_HIGHEST_FIRST&WOD=4&WOE=5&MGT=1&ZSX=0&SYE=3&YGF=14\n",
      "    Name: Radisson Blu Cebu\n",
      "    Location of hotel: Serging Osmena Blvd; corner Juan Luna, Cebu, 6000, Cebu, Philippines\n",
      "    Amenities: 400 guestrooms, Daily housekeeping, Restaurant and 3 bars/lounges, Full-service spa, Outdoor pool, Breakfast available, Free cribs/infant beds, Children's pool, Babysitting or childcare (surcharge), Supervised childcare/activities (surcharge), Rollaway/extra beds (surcharge), Connecting/adjoining rooms available, \n",
      "    Price range: P4455.0 - P13365.0 per room & per day (with 2 bed)\n",
      "    No. of available rooms: 400 rooms\n",
      "    Other data: No pets or service animals allowed, Free WiFi and wired Internet access in public areas, Free WiFi and wired Internet access in rooms, Airport shuttle (available 24 hours)*, Free onsite self parking, Free onsite valet parking, Free onsite extended parking, Supervised childcare/activities (surcharge), Buffet breakfast (surcharge), 3 bars/lounges , Restaurant , Poolside bar , 24-hour room service , Coffee/tea in a common area , Number of outdoor pools -  1, Children's pool, Fitness facilities, Full-service spa, Spa treatment room(s), Golf lessons available nearby, Golfing nearby, Business center, Conference space, Meeting rooms, Conference space size (feet) -  2575, Conference space size (meters) -  239, 24-hour front desk, Concierge services, Tours/ticket assistance, Limo or town car service available, Dry cleaning/laundry service, Laundry facilities, Free newspapers in lobby, Luggage storage, Wedding services, Multilingual staff, Porter/bellhop, Number of buildings/towers -  1, Year Built -  2010, Elevator, ATM/banking, Safe-deposit box at front desk, Designated smoking areas, Garden, Accessible bathroom, In-room accessibility, Roll-in shower, Wheelchair-accessible registration desk, Grab bar - near toilet, English, Filipino, In-room climate control (air conditioning), Minibar, Coffee/tea maker, Bathrobes, Slippers, Iron/ironing board, Hypo-allergenic bedding available, Pillow menu, Down comforter, Blackout drapes/curtains, Soundproofed rooms, Turndown service, Premium bedding, Pillowtop mattress, In-room massage available, Individually decorated, Individually furnished, Private bathroom, Shower only, Designer toiletries, Hair dryer, 37-inch LCD TV , Premium TV channels , IPod docking station , Desk, Free newspaper, Free WiFi, Phone, Free bottled water, Daily housekeeping, In-room safe (laptop compatible), Connecting/adjoining rooms available, \n",
      "    Customer reviews:\n",
      "10.0 - The staff was great. Especially Kristine by the pool. She helped us immensely when the crisis was starting to affect the Philippines. Even though she had other things to worry about she made the short amount of time we spent there wonderful. Thank you Kristine!\n",
      "\n",
      "P.Wu\n",
      "10.0 - Always great!!   And the Valentine's Buffet was outstanding!\n",
      "10.0 - Very good experience.\n",
      "Great rooms, great breakfast.\n",
      "\n",
      "10.0 - We had an awesome stay. Everything is just how we imagined an excellent stay would be. The room is spacious, the buffet is delectable,  the staff are so accomodating. Radisson Blu will always be our home in Cebu. Worth recommending. \n",
      "10.0 - Beautiful hotel next to SM mall. Great service, rooms and shopping \n",
      "\n",
      "    \n",
      "\n",
      "    Link: https://ph.hotels.com//ho493456/?q-check-in=2022-04-28&q-check-out=2022-04-29&q-rooms=1&q-room-0-adults=2&q-room-0-children=0&sort-order=STAR_RATING_HIGHEST_FIRST&WOD=4&WOE=5&MGT=1&ZSX=0&SYE=3&YGF=14\n",
      "    Name: Thunderbird Resorts - Poro Point\n",
      "    Location of hotel: Poro Point Freeport Zone, San Fernando, 2500, La Union, Philippines\n",
      "    Amenities: 64 guestrooms, Daily housekeeping, Golf course, Casino, 2 restaurants and 3 bars/lounges, Full-service spa, Children's pool, Children's club (surcharge), Supervised childcare/activities (surcharge), Rollaway/extra beds (surcharge), Television, Free toiletries, \n",
      "    Price range: P11364.0 - P11364.0 per room & per day (with 2 bed)\n",
      "    No. of available rooms: 64 rooms\n",
      "    Other data: No pets or service animals allowed, Free WiFi in public areas, Free WiFi in rooms, Free onsite self parking, Wheelchair-accessible parking on site, Children's club (surcharge), Supervised childcare/activities (surcharge), Full breakfast daily (surcharge), 2 restaurants , 3 bars/lounges , Coffee shop/café , Poolside bar , Room service (during limited hours) , Beach towels, Number of outdoor pools -  1, Children's pool, Fitness facilities, Golf course on site, Full-service spa, Bicycle rentals on site, Golfing on site, Miniature golf on site, Kayaking nearby, Water skiing nearby, Casino, Pool sun loungers, Pool umbrellas, Number of meeting rooms -  1, Conference space, Conference center, 24-hour front desk, Concierge services, Tours/ticket assistance, Dry cleaning/laundry service, Laundry facilities, Free newspapers in lobby, Wedding services, Porter/bellhop, Safe-deposit box at front desk, Designated smoking areas, Garden, Terrace, Accessible bathroom, In-room accessibility, Wheelchair-accessible parking, English, Filipino, Air conditioning, Bathrobes, Slippers, Blackout drapes/curtains, Turndown service, In-room massage available, Balcony, Rainfall showerhead, Shower only, Free toiletries, Hair dryer (on request), Flat-screen TV , Cable TV channels , DVD player , Desk, Free newspaper, Free WiFi, Free local calls, Refrigerator (on request), Free bottled water, Daily housekeeping, In-room safe, \n",
      "    Customer reviews:\n",
      "10.0 - Simply beautiful\n",
      "8.0 - Room is dirty, you can see hair on the floor, CR is not clean, not toilet paper, bidet is leaking, tiles are not clean, shower not working well.  All these is not expected considering the cost of the room.  Their rate is too much and service is so poor.  I have to ring reception all the time for items I need in the room\n",
      "10.0 - Room was excellent. Clean neighborhood. Courteous staff. My family (with 4 kids),enjoyed our stay....👍👍\n",
      "\n",
      "    \n"
     ]
    }
   ],
   "source": [
    "# PH Hotels Website\n",
    "for hotel in hotels:\n",
    "    #hotel_name = hotel.find('h2',class_='_3zH0kn').text\n",
    "    link = 'https://ph.hotels.com/'+hotel.a['href']\n",
    "    req01_per_hotel = requests.get(link).text\n",
    "    soup01_per_hotel = BeautifulSoup(req01_per_hotel,'lxml')\n",
    "    hotel_names = soup01_per_hotel.find('div',class_=\"_2h6Jhd\")\n",
    "    hotel_name = hotel_names.h1.text\n",
    "    \n",
    "    #Address\n",
    "    hotel_address = soup01_per_hotel.find('span', class_=\"_2wKxGq _1clhIX\").find_next('span').find_next('span').text\n",
    "    \n",
    "    #Amenities\n",
    "    inhotel_amenities = soup01_per_hotel.find_all('div', class_=\"_2cVsY2\")\n",
    "    hotel_amenities = ''\n",
    "    for uls in inhotel_amenities:\n",
    "        for li in uls.find_all('span'):\n",
    "            hotel_amenities += li.text + \", \"\n",
    "    \n",
    "    # Price Range\n",
    "    inhotel_price_range = soup01_per_hotel.find_all('span', class_=\"_2R4dw5\")\n",
    "    hotel_price_range = []\n",
    "    for price in inhotel_price_range:\n",
    "        hotel_price_range.append(float(price.text.replace('P','').replace(',','')))\n",
    "        \n",
    "    #Number of available rooms\n",
    "    hotel_available_rooms = soup01_per_hotel.select_one(\"section._1_22qw > div._2Ut1Ms > ul > li\")  \n",
    "    \n",
    "    #Other data\n",
    "    inhotel_other_data = soup01_per_hotel.select(\"div._2Ut1Ms > ul > li\")\n",
    "    hotel_other_data = \"\"\n",
    "    for data in inhotel_other_data[10:]:\n",
    "        hotel_other_data +=data.text + \", \"\n",
    "    #Hotel Reviews\n",
    "    inhotel_cust_reviews = soup01_per_hotel.find_all('p', class_='oZl9tt')\n",
    "    inhotel_cust_rate = soup01_per_hotel.find_all('span', class_='_1biq31 _11XjrQ _3yXMS-')\n",
    "    ctr = 0\n",
    "    hotel_reviews =''\n",
    "    for rate in inhotel_cust_rate:\n",
    "        hotel_reviews += rate.text[:-1] + \" - \" + inhotel_cust_reviews[ctr].text + \"\\n\"\n",
    "        ctr +=1\n",
    "            \n",
    "    print(f\"\"\"\n",
    "    Link: {link}\n",
    "    Name: {hotel_name}\n",
    "    Location of hotel: {hotel_address}\n",
    "    Amenities: {hotel_amenities}\n",
    "    Price range: P{hotel_price_range[0]} - P{hotel_price_range[-1]} per room & per day (with 2 bed)\n",
    "    No. of available rooms: {hotel_available_rooms.text[14:].strip()}\n",
    "    Other data: {hotel_other_data}\n",
    "    Customer reviews:\n",
    "{hotel_reviews}\n",
    "    \"\"\")"
   ]
  }
 ],
 "metadata": {
  "kernelspec": {
   "display_name": "Python 3",
   "language": "python",
   "name": "python3"
  },
  "language_info": {
   "codemirror_mode": {
    "name": "ipython",
    "version": 3
   },
   "file_extension": ".py",
   "mimetype": "text/x-python",
   "name": "python",
   "nbconvert_exporter": "python",
   "pygments_lexer": "ipython3",
   "version": "3.8.8"
  }
 },
 "nbformat": 4,
 "nbformat_minor": 5
}
